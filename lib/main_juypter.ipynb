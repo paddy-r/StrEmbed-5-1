{
 "cells": [
  {
   "cell_type": "code",
   "execution_count": 1,
   "metadata": {
    "scrolled": false
   },
   "outputs": [
    {
     "ename": "SyntaxError",
     "evalue": "invalid syntax (step_parse.py, line 249)",
     "output_type": "error",
     "traceback": [
      "Traceback \u001b[1;36m(most recent call last)\u001b[0m:\n",
      "  File \u001b[0;32m\"C:\\Users\\prctha\\Python\\Continuum\\miniconda3\\envs\\DSCproject\\lib\\site-packages\\IPython\\core\\interactiveshell.py\"\u001b[0m, line \u001b[0;32m3326\u001b[0m, in \u001b[0;35mrun_code\u001b[0m\n    exec(code_obj, self.user_global_ns, self.user_ns)\n",
      "\u001b[1;36m  File \u001b[1;32m\"<ipython-input-1-478724fa00b0>\"\u001b[1;36m, line \u001b[1;32m1\u001b[1;36m, in \u001b[1;35m<module>\u001b[1;36m\u001b[0m\n\u001b[1;33m    from step_parse import StepParse\u001b[0m\n",
      "\u001b[1;36m  File \u001b[1;32m\"C:\\Users\\prctha\\PythonDev\\GitHub\\DCS-project\\lib\\step_parse.py\"\u001b[1;36m, line \u001b[1;32m249\u001b[0m\n\u001b[1;33m    if self.tree.size() not 0:\u001b[0m\n\u001b[1;37m                            ^\u001b[0m\n\u001b[1;31mSyntaxError\u001b[0m\u001b[1;31m:\u001b[0m invalid syntax\n"
     ]
    }
   ],
   "source": [
    "from step_parse import StepParse\n",
    "\n",
    "# step_filename = 'C:/Users/prctha/Desktop/Torch Assembly.STEP'\n",
    "step_filename = '../examples/models/Model00002.step'\n",
    "test = StepParse()\n",
    "\n",
    "test.load_step(step_filename)\n",
    "\n",
    "# test.create_tree()\n",
    "test.print_tree()\n",
    "\n",
    "#test.tree_to_json()"
   ]
  },
  {
   "cell_type": "code",
   "execution_count": null,
   "metadata": {},
   "outputs": [],
   "source": [
    "test.tree_to_json(save_to_file=True,filename='test',path='C:/Users/prctha/Desktop/')"
   ]
  },
  {
   "cell_type": "code",
   "execution_count": null,
   "metadata": {},
   "outputs": [],
   "source": [
    "test.part_dict"
   ]
  },
  {
   "cell_type": "code",
   "execution_count": null,
   "metadata": {},
   "outputs": [],
   "source": [
    "test.tree.size()"
   ]
  },
  {
   "cell_type": "code",
   "execution_count": null,
   "metadata": {},
   "outputs": [],
   "source": []
  }
 ],
 "metadata": {
  "kernelspec": {
   "display_name": "Python (DSCproject)",
   "language": "python",
   "name": "dscproject"
  },
  "language_info": {
   "codemirror_mode": {
    "name": "ipython",
    "version": 3
   },
   "file_extension": ".py",
   "mimetype": "text/x-python",
   "name": "python",
   "nbconvert_exporter": "python",
   "pygments_lexer": "ipython3",
   "version": "3.6.9"
  }
 },
 "nbformat": 4,
 "nbformat_minor": 2
}
