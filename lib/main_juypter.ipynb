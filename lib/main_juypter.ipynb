{
 "cells": [
  {
   "cell_type": "code",
   "execution_count": 1,
   "metadata": {},
   "outputs": [
    {
     "name": "stdout",
     "output_type": "stream",
     "text": [
      "as1\n",
      "├── l-bracket-assembly\n",
      "│   ├── l-bracket\n",
      "│   ├── nut-bolt-assembly\n",
      "│   │   ├── bolt\n",
      "│   │   └── nut\n",
      "│   ├── nut-bolt-assembly\n",
      "│   │   ├── bolt\n",
      "│   │   └── nut\n",
      "│   └── nut-bolt-assembly\n",
      "│       ├── bolt\n",
      "│       └── nut\n",
      "├── l-bracket-assembly\n",
      "│   ├── l-bracket\n",
      "│   ├── nut-bolt-assembly\n",
      "│   │   ├── bolt\n",
      "│   │   └── nut\n",
      "│   ├── nut-bolt-assembly\n",
      "│   │   ├── bolt\n",
      "│   │   └── nut\n",
      "│   └── nut-bolt-assembly\n",
      "│       ├── bolt\n",
      "│       └── nut\n",
      "├── plate\n",
      "└── rod-assembly\n",
      "    ├── nut\n",
      "    ├── nut\n",
      "    └── rod\n",
      "\n"
     ]
    },
    {
     "data": {
      "text/plain": [
       "'{\"as1\": {\"children\": [{\"l-bracket-assembly\": {\"children\": [\"l-bracket\", {\"nut-bolt-assembly\": {\"children\": [\"bolt\", \"nut\"]}}, {\"nut-bolt-assembly\": {\"children\": [\"bolt\", \"nut\"]}}, {\"nut-bolt-assembly\": {\"children\": [\"bolt\", \"nut\"]}}]}}, {\"l-bracket-assembly\": {\"children\": [\"l-bracket\", {\"nut-bolt-assembly\": {\"children\": [\"bolt\", \"nut\"]}}, {\"nut-bolt-assembly\": {\"children\": [\"bolt\", \"nut\"]}}, {\"nut-bolt-assembly\": {\"children\": [\"bolt\", \"nut\"]}}]}}, \"plate\", {\"rod-assembly\": {\"children\": [\"nut\", \"nut\", \"rod\"]}}]}}'"
      ]
     },
     "execution_count": 1,
     "metadata": {},
     "output_type": "execute_result"
    }
   ],
   "source": [
    "from step_parse import StepParse\n",
    "\n",
    "# step_filename = 'C:/Users/prctha/Desktop/Torch Assembly.STEP'\n",
    "step_filename = 'C:/Users/prctha/Desktop/as1-oc-214.stp'\n",
    "test = StepParse()\n",
    "\n",
    "test.load_step(step_filename)\n",
    "\n",
    "# test.create_tree()\n",
    "test.print_tree()\n",
    "\n",
    "test.tree_to_json()"
   ]
  },
  {
   "cell_type": "code",
   "execution_count": 4,
   "metadata": {},
   "outputs": [
    {
     "data": {
      "text/plain": [
       "'{\"as1\": {\"children\": [{\"l-bracket-assembly\": {\"children\": [\"l-bracket\", {\"nut-bolt-assembly\": {\"children\": [\"bolt\", \"nut\"]}}, {\"nut-bolt-assembly\": {\"children\": [\"bolt\", \"nut\"]}}, {\"nut-bolt-assembly\": {\"children\": [\"bolt\", \"nut\"]}}]}}, {\"l-bracket-assembly\": {\"children\": [\"l-bracket\", {\"nut-bolt-assembly\": {\"children\": [\"bolt\", \"nut\"]}}, {\"nut-bolt-assembly\": {\"children\": [\"bolt\", \"nut\"]}}, {\"nut-bolt-assembly\": {\"children\": [\"bolt\", \"nut\"]}}]}}, \"plate\", {\"rod-assembly\": {\"children\": [\"nut\", \"nut\", \"rod\"]}}]}}'"
      ]
     },
     "execution_count": 4,
     "metadata": {},
     "output_type": "execute_result"
    }
   ],
   "source": [
    "test.tree_to_json(save_to_file=True,filename='test',path='C:/Users/prctha/Desktop/')"
   ]
  },
  {
   "cell_type": "code",
   "execution_count": null,
   "metadata": {},
   "outputs": [],
   "source": []
  },
  {
   "cell_type": "code",
   "execution_count": null,
   "metadata": {},
   "outputs": [],
   "source": []
  }
 ],
 "metadata": {
  "kernelspec": {
   "display_name": "Python (DSCproject)",
   "language": "python",
   "name": "dscproject"
  },
  "language_info": {
   "codemirror_mode": {
    "name": "ipython",
    "version": 3
   },
   "file_extension": ".py",
   "mimetype": "text/x-python",
   "name": "python",
   "nbconvert_exporter": "python",
   "pygments_lexer": "ipython3",
   "version": "3.6.9"
  }
 },
 "nbformat": 4,
 "nbformat_minor": 2
}
